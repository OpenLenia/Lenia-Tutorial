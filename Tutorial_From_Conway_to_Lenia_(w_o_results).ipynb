{
  "nbformat": 4,
  "nbformat_minor": 0,
  "metadata": {
    "colab": {
      "name": "Tutorial: From Conway to Lenia (w/o results)",
      "provenance": [],
      "collapsed_sections": [
        "xfFgmbgF4RtT"
      ],
      "toc_visible": true
    },
    "kernelspec": {
      "display_name": "Python 3",
      "name": "python3"
    },
    "language_info": {
      "name": "python"
    }
  },
  "cells": [
    {
      "cell_type": "markdown",
      "metadata": {
        "id": "CIVj_LQ9wJ99"
      },
      "source": [
        "# From Conway to Lenia\n",
        "#### *A step by step guide from discrete to continuous cellular automata*\n",
        "\n",
        "[*Conway's Game of Life*](https://en.wikipedia.org/wiki/Conway%27s_Game_of_Life) is the most famous 2D discrete cellular automata, developed by the late mathematician John Conway.\n",
        "\n",
        "*Lenia*, a continuous cellular automata, was evolved from the Game of Life. But how was it evolved? What are the steps and the rationales behind?\n",
        "This Google Colab notebook guides you through each stage, from the discrete Game of Life, to an intermediate system called *Primordia*, finally to Lenia, extended Lenia, and beyond...\n",
        "\n",
        "In this Colab Notebook, you can modify any code and see how that affects the results.\n",
        "1. Open \"Preparations\" section and run the two code parts inside (click the \"Run\" triangle on the left). Wait some time for the runtime to connect.\n",
        "2. Choose a code part and change the code inside (e.g. change world size, change R, modify kernel, or anything).\n",
        "3. Run the code part (click the \"Run\" triangle on the left).\n",
        "4. New results will be shown below the code part. Click \"Play\" triangle under the movie to see the simulation.\n",
        "\n",
        "More about Lenia and Primordia: https://chakazul.github.io/lenia.html\n",
        "\n",
        "[<img height=\"50px\" src=\"https://colab.research.google.com/img/colab_favicon_256px.png\"> Open in Google Colab](https://colab.research.google.com/github/OpenLenia/Lenia-Tutorial/blob/main/Tutorial_From_Conway_to_Lenia.ipynb)\n",
        "\n",
        "[<img height=\"50px\" src=\"https://github.githubassets.com/pinned-octocat.svg\">  Source in GitHub](https://github.com/OpenLenia/Lenia-Tutorial)\n",
        "\n"
      ]
    },
    {
      "cell_type": "markdown",
      "metadata": {
        "id": "xfFgmbgF4RtT"
      },
      "source": [
        "# Preparations"
      ]
    },
    {
      "cell_type": "markdown",
      "metadata": {
        "id": "AG0fZKRhRnyA"
      },
      "source": [
        "## Common stuff\n",
        "\n",
        "Load Python libraries, define settings and utility functions."
      ]
    },
    {
      "cell_type": "code",
      "metadata": {
        "id": "0AR7N19If3-Q"
      },
      "source": [
        "%matplotlib inline\n",
        "import numpy as np\n",
        "import scipy.signal\n",
        "import matplotlib.pylab as plt\n",
        "import matplotlib.animation\n",
        "import IPython.display\n",
        "\n",
        "np.warnings.filterwarnings('ignore', category=np.VisibleDeprecationWarning)                 \n",
        "\n",
        "# default values\n",
        "R = 1\n",
        "\n",
        "def figure_world(A, cmap='viridis'):\n",
        "  global img\n",
        "  fig = plt.figure()\n",
        "  img = plt.imshow(A, cmap=cmap, interpolation=\"nearest\", vmin=0)\n",
        "  plt.title('world A')\n",
        "  plt.close()\n",
        "  return fig\n",
        "\n",
        "def figure_asset(K, growth, cmap='viridis', K_sum=1, bar_K=False):\n",
        "  global R\n",
        "  K_size = K.shape[0];  K_mid = K_size // 2\n",
        "  fig, ax = plt.subplots(1, 3, figsize=(14,2), gridspec_kw={'width_ratios': [1,1,2]})\n",
        "  ax[0].imshow(K, cmap=cmap, interpolation=\"nearest\", vmin=0)\n",
        "  ax[0].title.set_text('kernel K')\n",
        "  if bar_K:\n",
        "    ax[1].bar(range(K_size), K[K_mid,:], width=1)\n",
        "  else:\n",
        "    ax[1].plot(range(K_size), K[K_mid,:])\n",
        "  ax[1].title.set_text('K cross-section')\n",
        "  ax[1].set_xlim([K_mid - R - 3, K_mid + R + 3])\n",
        "  if K_sum <= 1:\n",
        "    x = np.linspace(0, K_sum, 1000)\n",
        "    ax[2].plot(x, growth(x))\n",
        "  else:\n",
        "    x = np.arange(K_sum + 1)\n",
        "    ax[2].step(x, growth(x))\n",
        "  ax[2].title.set_text('growth G')\n",
        "  return fig\n",
        "\n",
        "def figure_asset_list(Ks, nKs, growth, kernels, use_c0=False, cmap='viridis', K_sum=1):\n",
        "  global R\n",
        "  K_size = Ks[0].shape[0];  K_mid = K_size // 2\n",
        "  fig, ax = plt.subplots(1, 3, figsize=(14,2), gridspec_kw={'width_ratios': [1,2,2]})\n",
        "  if use_c0:\n",
        "    K_stack = [ np.clip(np.zeros(Ks[0].shape) + sum(K/3 for k,K in zip(kernels,Ks) if k['c0']==l), 0, 1) for l in range(3) ]\n",
        "  else:\n",
        "    K_stack = Ks[:3]\n",
        "  ax[0].imshow(np.dstack(K_stack), cmap=cmap, interpolation=\"nearest\", vmin=0)\n",
        "  ax[0].title.set_text('kernels Ks')\n",
        "  X_stack = [ K[K_mid,:] for K in nKs ]\n",
        "  ax[1].plot(range(K_size), np.asarray(X_stack).T)\n",
        "  ax[1].title.set_text('Ks cross-sections')\n",
        "  ax[1].set_xlim([K_mid - R - 3, K_mid + R + 3])\n",
        "  x = np.linspace(0, K_sum, 1000)\n",
        "  G_stack = [ growth(x, k['m'], k['s']) * k['h'] for k in kernels ]\n",
        "  ax[2].plot(x, np.asarray(G_stack).T)\n",
        "  ax[2].title.set_text('growths Gs')\n",
        "  return fig\n",
        "\n",
        "def figure_panels(As, Ks, cmap='viridis'):\n",
        "  global img1, img2, img3, img4\n",
        "  A_size = As[0].shape[0]\n",
        "  K_stack = [ np.clip(np.zeros(Ks[0].shape) + sum(K/3 for k,K in zip(kernels,Ks) if k['c0']==l), 0, 1) for l in range(3) ]\n",
        "  fig = plt.figure(figsize=(8,8), dpi=75, frameon=False)\n",
        "  plt.subplot(221).set_axis_off();  img1 = plt.imshow(np.dstack(As), vmin=0)\n",
        "  plt.subplot(222).set_axis_off();  img2 = plt.imshow(np.dstack([np.zeros([A_size, A_size])]*3), vmin=0)\n",
        "  plt.subplot(223).set_axis_off();  img3 = plt.imshow(np.dstack([np.zeros([A_size, A_size])]*3), vmin=0)\n",
        "  plt.subplot(224).set_axis_off();  img4 = plt.imshow(np.dstack(K_stack), vmin=0)\n",
        "  fig.subplots_adjust(left=0, bottom=0, right=1, top=1, wspace=0, hspace=0)\n",
        "  plt.close()\n",
        "  return fig\n"
      ],
      "execution_count": null,
      "outputs": []
    },
    {
      "cell_type": "markdown",
      "metadata": {
        "id": "YT-o59M7Q-53"
      },
      "source": [
        "## Sample creatures\n",
        "\n",
        "Instead of initializing random worlds, we can load sample creatures that are stable in behavior."
      ]
    },
    {
      "cell_type": "code",
      "metadata": {
        "id": "W4dlQ0vBFSNh"
      },
      "source": [
        "pattern = {}\n",
        "pattern[\"bosco\"] = {\"cells\":[\n",
        "  [0, 0, 0, 0, 1, 0, 0, 0, 0, 0],\n",
        "  [0, 0, 1, 1, 1, 1, 1, 0, 0, 0],\n",
        "  [0, 1, 1, 0, 0, 1, 1, 1, 1, 0],\n",
        "  [1, 1, 0, 0, 0, 1, 1, 1, 1, 1],\n",
        "  [1, 0, 0, 0, 0, 0, 1, 1, 1, 1],\n",
        "  [1, 1, 0, 0, 0, 0, 1, 1, 1, 1],\n",
        "  [1, 1, 1, 0, 1, 1, 1, 1, 1, 1],\n",
        "  [0, 1, 1, 1, 1, 1, 1, 1, 1, 0],\n",
        "  [0, 1, 1, 1, 1, 1, 1, 1, 0, 0],\n",
        "  [0, 0, 1, 1, 1, 1, 1, 0, 0, 0],\n",
        "  [0, 0, 0, 1, 1, 1, 0, 0, 0, 0]]}\n",
        "\n",
        "pattern[\"orbium\"] = {\"name\":\"Orbium\",\"R\":13,\"T\":10,\"m\":0.15,\"s\":0.015,\"b\":[1],\n",
        "  \"cells\":[[0,0,0,0,0,0,0.1,0.14,0.1,0,0,0.03,0.03,0,0,0.3,0,0,0,0],\n",
        "  [0,0,0,0,0,0.08,0.24,0.3,0.3,0.18,0.14,0.15,0.16,0.15,0.09,0.2,0,0,0,0],\n",
        "  [0,0,0,0,0,0.15,0.34,0.44,0.46,0.38,0.18,0.14,0.11,0.13,0.19,0.18,0.45,0,0,0],\n",
        "  [0,0,0,0,0.06,0.13,0.39,0.5,0.5,0.37,0.06,0,0,0,0.02,0.16,0.68,0,0,0],\n",
        "  [0,0,0,0.11,0.17,0.17,0.33,0.4,0.38,0.28,0.14,0,0,0,0,0,0.18,0.42,0,0],\n",
        "  [0,0,0.09,0.18,0.13,0.06,0.08,0.26,0.32,0.32,0.27,0,0,0,0,0,0,0.82,0,0],\n",
        "  [0.27,0,0.16,0.12,0,0,0,0.25,0.38,0.44,0.45,0.34,0,0,0,0,0,0.22,0.17,0],\n",
        "  [0,0.07,0.2,0.02,0,0,0,0.31,0.48,0.57,0.6,0.57,0,0,0,0,0,0,0.49,0],\n",
        "  [0,0.59,0.19,0,0,0,0,0.2,0.57,0.69,0.76,0.76,0.49,0,0,0,0,0,0.36,0],\n",
        "  [0,0.58,0.19,0,0,0,0,0,0.67,0.83,0.9,0.92,0.87,0.12,0,0,0,0,0.22,0.07],\n",
        "  [0,0,0.46,0,0,0,0,0,0.7,0.93,1,1,1,0.61,0,0,0,0,0.18,0.11],\n",
        "  [0,0,0.82,0,0,0,0,0,0.47,1,1,0.98,1,0.96,0.27,0,0,0,0.19,0.1],\n",
        "  [0,0,0.46,0,0,0,0,0,0.25,1,1,0.84,0.92,0.97,0.54,0.14,0.04,0.1,0.21,0.05],\n",
        "  [0,0,0,0.4,0,0,0,0,0.09,0.8,1,0.82,0.8,0.85,0.63,0.31,0.18,0.19,0.2,0.01],\n",
        "  [0,0,0,0.36,0.1,0,0,0,0.05,0.54,0.86,0.79,0.74,0.72,0.6,0.39,0.28,0.24,0.13,0],\n",
        "  [0,0,0,0.01,0.3,0.07,0,0,0.08,0.36,0.64,0.7,0.64,0.6,0.51,0.39,0.29,0.19,0.04,0],\n",
        "  [0,0,0,0,0.1,0.24,0.14,0.1,0.15,0.29,0.45,0.53,0.52,0.46,0.4,0.31,0.21,0.08,0,0],\n",
        "  [0,0,0,0,0,0.08,0.21,0.21,0.22,0.29,0.36,0.39,0.37,0.33,0.26,0.18,0.09,0,0,0],\n",
        "  [0,0,0,0,0,0,0.03,0.13,0.19,0.22,0.24,0.24,0.23,0.18,0.13,0.05,0,0,0,0],\n",
        "  [0,0,0,0,0,0,0,0,0.02,0.06,0.08,0.09,0.07,0.05,0.01,0,0,0,0,0]]}\n",
        "\n",
        "pattern[\"geminium\"] = {\"name\":\"Hydrogeminium\",\"R\":18,\"T\":10,\"m\":0.26,\"s\":0.036,\"b\":[0.5,1,0.667],\n",
        "  \"cells\":[[0,0,0,0,0,0,0,0,0,0,0,0,0,0,0,0,0,0,0,0,0,0,0,0,0,0,0,0,0,0,0,0,0,0,0,0,0,0.01,0.02,0.03,0.04,0.04,0.04,0.03,0.02,0,0,0,0,0,0,0,0,0,0],\n",
        "  [0,0,0,0,0,0,0,0,0,0,0,0,0,0,0,0,0,0,0,0,0,0,0,0,0,0,0,0,0,0,0,0,0,0,0,0.04,0.1,0.16,0.2,0.23,0.25,0.24,0.21,0.18,0.14,0.1,0.07,0.03,0,0,0,0,0,0,0],\n",
        "  [0,0,0,0,0,0,0,0,0,0,0,0,0,0,0,0,0,0,0,0,0,0,0,0,0,0,0,0,0,0,0,0,0,0.01,0.09,0.2,0.33,0.44,0.52,0.56,0.58,0.55,0.51,0.44,0.37,0.3,0.23,0.16,0.08,0.01,0,0,0,0,0],\n",
        "  [0,0,0,0,0,0,0,0,0,0,0,0,0,0,0,0,0,0,0,0,0,0,0,0,0,0,0,0,0,0,0,0,0,0.13,0.29,0.45,0.6,0.75,0.85,0.9,0.91,0.88,0.82,0.74,0.64,0.55,0.46,0.36,0.25,0.12,0.03,0,0,0,0],\n",
        "  [0,0,0,0,0,0,0,0,0,0,0,0,0,0,0,0,0,0,0,0,0,0,0,0,0,0,0,0,0,0,0,0,0.14,0.38,0.6,0.78,0.93,1.0,1.0,1.0,1.0,1.0,1.0,0.99,0.89,0.78,0.67,0.56,0.44,0.3,0.15,0.04,0,0,0],\n",
        "  [0,0,0,0,0,0,0,0,0,0,0,0,0,0,0,0,0,0,0,0,0,0,0,0,0,0,0,0,0,0,0,0.08,0.39,0.74,1.0,1.0,1.0,1.0,1.0,1.0,1.0,1.0,1.0,1.0,1.0,0.98,0.85,0.74,0.62,0.47,0.3,0.14,0.03,0,0],\n",
        "  [0,0,0,0,0,0,0,0,0,0,0,0,0,0,0,0,0,0,0,0,0,0,0,0,0,0,0,0,0,0,0,0.32,0.76,1.0,1.0,1.0,1.0,1.0,1.0,1.0,1.0,1.0,1.0,1.0,1.0,1.0,1.0,0.88,0.75,0.61,0.45,0.27,0.11,0.01,0],\n",
        "  [0,0,0,0,0,0,0,0,0,0,0,0,0,0,0,0,0,0,0,0,0,0,0,0,0,0,0,0,0,0,0.35,0.83,1.0,1.0,1.0,1.0,1.0,1.0,1.0,1.0,1.0,1.0,1.0,1.0,1.0,1.0,1.0,1.0,0.88,0.73,0.57,0.38,0.19,0.05,0],\n",
        "  [0,0,0,0,0,0,0,0,0,0,0,0,0,0,0,0,0,0,0,0,0,0,0,0,0,0,0,0,0,0.5,1.0,1.0,1.0,1.0,1.0,1.0,1.0,0.99,1.0,1.0,1.0,1.0,0.99,1.0,1.0,1.0,1.0,1.0,1.0,0.85,0.67,0.47,0.27,0.11,0.01],\n",
        "  [0,0,0,0,0,0,0,0,0,0,0,0,0,0,0,0,0,0,0,0,0,0,0,0,0,0,0,0,0.55,1.0,1.0,1.0,1.0,1.0,1.0,1.0,0.93,0.83,0.79,0.84,0.88,0.89,0.9,0.93,0.98,1.0,1.0,1.0,1.0,0.98,0.79,0.57,0.34,0.15,0.03],\n",
        "  [0,0,0,0,0,0,0,0,0,0,0,0,0,0,0,0,0,0,0,0,0,0,0,0,0,0,0,0.47,1.0,1.0,1.0,1.0,1.0,1.0,1.0,0.9,0.72,0.54,0.44,0.48,0.6,0.7,0.76,0.82,0.91,0.99,1.0,1.0,1.0,1.0,0.91,0.67,0.41,0.19,0.05],\n",
        "  [0,0,0,0,0,0,0,0,0,0,0,0,0,0,0,0,0,0,0,0,0,0,0,0,0,0,0.27,0.99,1.0,1.0,1.0,1.0,0.9,0.71,0.65,0.55,0.38,0.2,0.14,0.21,0.36,0.52,0.64,0.73,0.84,0.95,1.0,1.0,1.0,1.0,1.0,0.78,0.49,0.24,0.07],\n",
        "  [0,0,0,0,0,0,0,0,0,0,0,0,0,0,0,0,0,0,0,0,0,0,0,0,0,0.14,0.63,0.96,1.0,1.0,1.0,0.84,0.17,0,0,0,0,0,0,0,0.13,0.35,0.51,0.64,0.77,0.91,0.99,1.0,1.0,1.0,1.0,0.88,0.58,0.29,0.09],\n",
        "  [0,0,0,0,0,0,0,0,0,0,0,0,0,0,0,0,0,0,0,0,0,0,0,0,0.07,0.38,0.72,0.95,1.0,1.0,1.0,0.22,0,0,0,0,0,0,0,0,0,0.11,0.33,0.5,0.67,0.86,0.99,1.0,1.0,1.0,1.0,0.95,0.64,0.33,0.1],\n",
        "  [0,0,0,0,0,0,0,0,0,0,0,0,0,0,0,0,0,0,0,0,0,0,0,0.32,0.49,0.71,0.93,1.0,1.0,1.0,0.56,0,0,0,0,0,0,0,0,0,0,0,0.1,0.31,0.52,0.79,0.98,1.0,1.0,1.0,1.0,0.98,0.67,0.35,0.11],\n",
        "  [0,0,0,0,0,0,0,0,0,0,0,0,0,0,0,0,0,0,0,0,0,0,0.01,0.6,0.83,0.98,1.0,1.0,0.68,0,0,0,0,0,0,0,0,0,0,0,0,0,0,0.15,0.38,0.71,0.97,1.0,1.0,1.0,1.0,0.97,0.67,0.35,0.11],\n",
        "  [0,0,0,0,0,0,0,0,0,0,0,0,0,0,0,0,0,0,0,0,0,0,0,0.51,0.96,1.0,1.0,0.18,0,0,0,0,0,0,0,0,0,0,0,0,0,0,0,0.09,0.34,0.68,0.95,1.0,1.0,1.0,1.0,0.91,0.61,0.32,0.1],\n",
        "  [0,0,0,0,0,0,0,0,0,0,0,0,0,0,0,0,0,0,0,0,0,0,0.13,0.56,0.99,1.0,1.0,0,0,0,0,0,0,0,0,0,0,0,0,0,0,0,0,0.17,0.45,0.76,0.96,1.0,1.0,1.0,1.0,0.82,0.52,0.26,0.07],\n",
        "  [0,0,0,0,0,0,0,0,0,0,0,0,0,0,0,0,0,0,0,0,0,0.33,0.7,0.94,1.0,1.0,0.44,0,0,0,0,0,0,0,0,0,0,0,0,0,0,0,0,0.33,0.68,0.91,0.99,1.0,1.0,1.0,1.0,0.71,0.42,0.19,0.03],\n",
        "  [0,0,0,0,0,0,0,0,0,0,0,0,0,0,0,0,0,0,0,0,0.53,0.89,1.0,1.0,1.0,0.8,0.43,0.04,0,0,0,0,0,0,0,0,0,0,0,0,0,0,0,0.47,0.86,1.0,1.0,1.0,1.0,1.0,0.95,0.58,0.32,0.12,0],\n",
        "  [0,0,0,0,0,0,0,0,0,0,0,0,0,0,0,0,0,0,0,0,0.77,0.99,1.0,0.97,0.58,0.41,0.33,0.18,0,0,0,0,0,0,0,0,0,0,0,0,0,0,0,0.54,0.95,1.0,1.0,1.0,1.0,1.0,0.8,0.44,0.21,0.06,0],\n",
        "  [0,0,0,0,0,0,0,0,0,0,0,0,0,0,0,0,0,0,0,0.39,0.83,1.0,1.0,0.55,0.11,0.05,0.15,0.22,0.06,0,0,0,0,0,0,0,0,0,0,0,0,0,0,0.58,0.99,1.0,1.0,1.0,1.0,1.0,0.59,0.29,0.11,0.01,0],\n",
        "  [0,0,0,0,0,0,0,0,0,0,0,0,0,0,0,0,0.04,0.55,0.81,0.86,0.97,1.0,1.0,0.5,0,0,0.01,0.09,0.03,0,0,0,0,0,0,0,0,0,0,0,0,0,0.26,0.78,1.0,1.0,1.0,1.0,1.0,0.66,0.35,0.13,0.03,0,0],\n",
        "  [0,0,0,0,0,0,0,0,0,0,0,0,0,0,0,0,0.33,1.0,1.0,1.0,1.0,1.0,1.0,0.93,0.11,0,0,0,0,0,0,0,0,0,0,0,0,0,0,0,0.23,0.73,0.95,1.0,1.0,1.0,1.0,1.0,0.62,0.35,0.12,0,0,0,0],\n",
        "  [0,0,0,0,0,0,0,0,0,0,0,0,0,0,0,0,0.51,1.0,1.0,1.0,1.0,1.0,1.0,1.0,0.72,0,0,0,0,0,0,0,0,0,0,0,0,0,0,0,1.0,1.0,1.0,1.0,1.0,1.0,1.0,0.56,0.25,0.09,0,0,0,0,0],\n",
        "  [0,0,0,0,0,0,0,0,0,0,0,0,0,0,0.12,0.38,1.0,1.0,1.0,0.66,0.08,0.55,1.0,1.0,1.0,0.03,0,0,0,0,0,0,0,0,0,0,0,0,0,0.35,1.0,1.0,1.0,1.0,1.0,1.0,0.67,0.12,0,0,0,0,0,0,0],\n",
        "  [0,0,0,0,0,0,0,0,0,0,0,0,0.6,1.0,1.0,1.0,1.0,1.0,1.0,0.49,0,0,0.87,1.0,0.88,0,0,0,0,0,0,0,0,0,0,0,0,0,0,1.0,1.0,1.0,1.0,1.0,1.0,0.7,0.07,0,0,0,0,0,0,0,0],\n",
        "  [0,0,0,0,0,0,0,0,0,0.04,0.21,0.48,1.0,1.0,1.0,1.0,1.0,1.0,1.0,1.0,0,0,0.04,0.42,0.26,0,0,0,0,0,0,0,0,0,0.12,0.21,0.34,0.58,1.0,1.0,1.0,0.99,0.97,0.99,0.46,0,0,0,0,0,0,0,0,0,0],\n",
        "  [0,0,0,0,0,0,0,0,0,0.5,1.0,1.0,1.0,1.0,0.96,0,0.31,1.0,1.0,1.0,0.53,0,0,0,0,0,0,0,0,0.2,0.21,0,0,0,0.27,1.0,1.0,1.0,1.0,1.0,1.0,0.87,0.52,0.01,0,0,0,0,0,0,0,0,0,0,0],\n",
        "  [0,0,0,0,0,0,0,0,0.84,1.0,1.0,1.0,1.0,1.0,0,0,0,0.83,1.0,1.0,0.52,0,0,0,0,0,0,0,0.26,0.82,0.59,0.02,0,0,0.46,1.0,1.0,1.0,1.0,1.0,0.9,0.55,0,0,0,0,0,0,0,0,0,0,0,0,0],\n",
        "  [0,0,0,0,0,0,0,0.39,0.99,1.0,1.0,1.0,1.0,0.78,0.04,0,0,0,0.93,0.92,0,0,0,0,0,0,0,0,0.69,1.0,1.0,0.36,0,0,1.0,1.0,0.65,0.66,0.97,0.87,0.54,0,0,0,0,0,0,0,0,0,0,0,0,0,0],\n",
        "  [0,0,0,0,0.55,0.75,0.59,0.74,1.0,1.0,0,0,0.75,0.71,0.18,0,0,0,0,0,0,0,0,0,0,0.29,0,0,0.45,1.0,1.0,1.0,1.0,1.0,1.0,1.0,0.47,0.39,0.71,0.25,0,0,0,0,0,0,0,0,0,0,0,0,0,0,0],\n",
        "  [0,0,0,0,0.69,0.81,0.8,0.92,1.0,0.13,0,0,0.13,0.94,0.58,0,0,0,0,0,0,0,0,0,1.0,1.0,0.34,0,0.04,1.0,1.0,1.0,1.0,1.0,1.0,1.0,0.24,0,0,0,0,0,0,0,0,0,0,0,0,0,0,0,0,0,0],\n",
        "  [0,0,0,0,0.63,0.85,0.9,0.98,1.0,0.09,0,0,0.02,1.0,0.64,0,0,0,0,0,0,0,0,0.59,1.0,1.0,0.84,0,0,1.0,1.0,1.0,1.0,1.0,1.0,0.64,0,0,0,0,0,0,0,0,0,0,0,0,0,0,0,0,0,0,0],\n",
        "  [0,0,0,0,0.64,0.65,0.67,1.0,1.0,0.21,0.01,0,0.04,0.02,0,0,0,0,0,0,0,0,0,0.69,1.0,1.0,1.0,0.29,0.37,1.0,1.0,0.6,0.63,1.0,0.84,0,0,0,0,0,0,0,0,0,0,0,0,0,0,0,0,0,0,0,0],\n",
        "  [0,0,0,0,0.44,0.73,0.73,0.85,1.0,0.97,0.23,0.05,0,0,0,0,0,0,0,0,0.06,0,0,0,0.97,1.0,1.0,1.0,1.0,1.0,1.0,0.33,0.24,0.67,0,0,0,0,0,0,0,0,0,0,0,0,0,0,0,0,0,0,0,0,0],\n",
        "  [0,0,0,0.12,0.55,0.9,0.9,1.0,1.0,1.0,0.43,0.04,0,0,0,0,0,0,0,0.31,0.54,0,0,0,0.88,1.0,1.0,1.0,1.0,1.0,1.0,0,0,0,0,0,0,0,0,0,0,0,0,0,0,0,0,0,0,0,0,0,0,0,0],\n",
        "  [0,0,0,0.29,0.71,1.0,1.0,1.0,1.0,0.79,0.28,0,0,0,0,0,0,0,0,0.4,0.77,0.54,0,0,0.87,1.0,1.0,1.0,1.0,1.0,0.31,0,0,0,0,0,0,0,0,0,0,0,0,0,0,0,0,0,0,0,0,0,0,0,0],\n",
        "  [0,0.16,0.27,0.41,0.72,0.99,1.0,1.0,0.82,0.42,0.09,0,0,0,0,0,0,0,0,0.1,0.55,0.58,0.58,0.77,0.99,1.0,1.0,1.0,1.0,0.63,0,0,0,0,0,0,0,0,0,0,0,0,0,0,0,0,0,0,0,0,0,0,0,0,0],\n",
        "  [0.31,0.48,0.45,0.46,0.63,0.88,1.0,0.83,0.59,0.28,0.06,0,0,0,0,0,0,0,0,0,0.32,0.7,0.95,1.0,1.0,1.0,1.0,0.7,0.58,0.12,0.04,0,0,0,0,0,0,0,0,0,0,0,0,0,0,0,0,0,0,0,0,0,0,0,0],\n",
        "  [0.23,0.54,0.53,0.48,0.57,0.59,0.65,0.63,0.55,0.35,0.13,0.03,0.02,0.09,0.74,1.0,0.09,0,0,0,0.32,0.86,1.0,1.0,1.0,1.0,0.57,0.44,0.31,0.16,0.01,0,0,0,0,0,0,0,0,0,0,0,0,0,0,0,0,0,0,0,0,0,0,0,0],\n",
        "  [0,0.31,0.45,0.31,0.18,0.28,0.39,0.47,0.54,0.5,0.35,0.2,0.16,0.28,0.75,1.0,0.42,0.01,0,0,0.6,1.0,1.0,1.0,1.0,0.51,0.29,0.09,0,0,0,0,0,0,0,0,0,0,0,0,0,0,0,0,0,0,0,0,0,0,0,0,0,0,0],\n",
        "  [0,0,0,0,0,0.14,0.3,0.4,0.54,0.71,0.74,0.65,0.49,0.35,0.27,0.47,0.6,0.6,0.72,0.98,1.0,1.0,1.0,1.0,0.65,0.33,0,0,0,0,0,0,0,0,0,0,0,0,0,0,0,0,0,0,0,0,0,0,0,0,0,0,0,0,0],\n",
        "  [0,0,0,0,0,0.06,0.33,0.53,0.69,0.94,0.99,1.0,0.84,0.41,0.16,0.15,0.96,1.0,1.0,1.0,1.0,1.0,1.0,1.0,0.73,0.13,0,0,0,0,0,0,0,0,0,0,0,0,0,0,0,0,0,0,0,0,0,0,0,0,0,0,0,0,0],\n",
        "  [0,0,0,0,0,0,0.42,0.86,0.98,0.98,0.99,1.0,0.94,0.63,0.32,0.62,1.0,1.0,1.0,1.0,1.0,1.0,1.0,0.65,0.23,0,0,0,0,0,0,0,0,0,0,0,0,0,0,0,0,0,0,0,0,0,0,0,0,0,0,0,0,0,0],\n",
        "  [0,0,0,0,0,0.07,0.62,0.95,1.0,1.0,0.99,0.98,0.99,1.0,1.0,1.0,1.0,1.0,1.0,1.0,0.98,0.14,0,0,0,0,0,0,0,0,0,0,0,0,0,0,0,0,0,0,0,0,0,0,0,0,0,0,0,0,0,0,0,0,0],\n",
        "  [0,0,0,0,0,0.03,0.46,0.89,1.0,1.0,0.97,0.83,0.75,0.81,0.94,1.0,1.0,1.0,1.0,0.99,0.03,0,0,0,0,0,0,0,0,0,0,0,0,0,0,0,0,0,0,0,0,0,0,0,0,0,0,0,0,0,0,0,0,0,0],\n",
        "  [0,0,0,0,0,0,0.14,0.57,0.88,0.93,0.81,0.58,0.45,0.48,0.64,0.86,0.97,0.99,0.99,0.42,0,0,0,0,0,0,0,0,0,0,0,0,0,0,0,0,0,0,0,0,0,0,0,0,0,0,0,0,0,0,0,0,0,0,0],\n",
        "  [0,0,0,0,0,0,0,0,0.23,0.45,0.47,0.39,0.29,0.19,0.2,0.46,0.28,0.03,0,0,0,0,0,0,0,0,0,0,0,0,0,0,0,0,0,0,0,0,0,0,0,0,0,0,0,0,0,0,0,0,0,0,0,0,0],\n",
        "  [0,0,0,0,0,0,0,0,0,0,0.08,0.22,0.24,0.15,0,0,0,0,0,0,0,0,0,0,0,0,0,0,0,0,0,0,0,0,0,0,0,0,0,0,0,0,0,0,0,0,0,0,0,0,0,0,0,0,0],\n",
        "  [0,0,0,0,0,0,0,0,0,0,0,0.07,0.22,0.14,0,0,0,0,0,0,0,0,0,0,0,0,0,0,0,0,0,0,0,0,0,0,0,0,0,0,0,0,0,0,0,0,0,0,0,0,0,0,0,0,0]]}\n",
        "\n",
        "pattern[\"fish\"] = {\"name\":\"K=3 Fish\",\"R\":10,\"T\":5,\"kernels\":[\n",
        "  {\"b\":[1,0.417,0.667],\"m\":0.156,\"s\":0.0118,\"h\":1,\"c0\":0,\"c1\":0},\n",
        "  {\"b\":[0.083,1],\"m\":0.193,\"s\":0.049,\"h\":1,\"c0\":0,\"c1\":0},\n",
        "  {\"b\":[1],\"m\":0.342,\"s\":0.0891,\"h\":1,\"c0\":0,\"c1\":0}],\n",
        "  \"cells\":[[0,0,0,0,0,0,0,0,0,0,0,0.06,0.1,0.04,0.02,0.01,0,0,0,0,0,0],\n",
        "  [0,0,0,0,0,0,0,0,0.15,0.37,0.5,0.44,0.19,0.23,0.3,0.23,0.15,0.01,0,0,0,0],\n",
        "  [0,0,0,0,0,0,0.32,0.78,0.26,0,0.11,0.11,0.1,0.08,0.18,0.16,0.17,0.24,0.09,0,0,0],\n",
        "  [0,0,0,0,0.45,0.16,0,0,0,0,0,0.15,0.15,0.16,0.15,0.1,0.09,0.21,0.24,0.12,0,0],\n",
        "  [0,0,0,0.1,0,0,0,0,0,0,0,0.17,0.39,0.43,0.34,0.25,0.15,0.16,0.15,0.25,0.03,0],\n",
        "  [0,0.15,0.06,0,0,0,0,0,0,0,0.24,0.72,0.92,0.85,0.61,0.47,0.39,0.27,0.12,0.18,0.17,0],\n",
        "  [0,0.08,0,0,0,0,0,0,0,0,1.0,1.0,1.0,1.0,0.73,0.6,0.56,0.31,0.12,0.15,0.24,0.01],\n",
        "  [0,0.16,0,0,0,0,0,0,0,0.76,1.0,1.0,1.0,1.0,0.76,0.72,0.65,0.39,0.1,0.17,0.24,0.05],\n",
        "  [0,0.05,0,0,0,0,0,0,0.21,0.83,1.0,1.0,1.0,1.0,0.86,0.85,0.76,0.36,0.17,0.13,0.21,0.07],\n",
        "  [0,0.05,0,0,0.02,0,0,0,0.4,0.91,1.0,1.0,1.0,1.0,1.0,0.95,0.79,0.36,0.21,0.09,0.18,0.04],\n",
        "  [0.06,0.08,0,0.18,0.21,0.1,0.03,0.38,0.92,1.0,1.0,1.0,1.0,1.0,1.0,1.0,0.64,0.31,0.12,0.07,0.25,0],\n",
        "  [0.05,0.12,0.27,0.4,0.34,0.42,0.93,1.0,1.0,1.0,1.0,1.0,1.0,1.0,1.0,0.97,0.33,0.16,0.05,0.1,0.26,0],\n",
        "  [0,0.25,0.21,0.39,0.99,1.0,1.0,1.0,1.0,1.0,1.0,0.86,0.89,0.94,0.83,0.13,0,0,0.04,0.21,0.18,0],\n",
        "  [0,0.06,0.29,0.63,0.84,0.97,1.0,1.0,1.0,0.96,0.46,0.33,0.36,0,0,0,0,0,0.03,0.35,0,0],\n",
        "  [0,0,0.13,0.22,0.59,0.85,0.99,1.0,0.98,0.25,0,0,0,0,0,0,0,0,0.34,0.14,0,0],\n",
        "  [0,0,0,0,0.33,0.7,0.95,0.8,0.33,0.11,0,0,0,0,0,0,0,0.11,0.26,0,0,0],\n",
        "  [0,0,0,0,0.16,0.56,0.52,0.51,0.4,0.18,0.01,0,0,0,0,0,0,0.42,0,0,0,0],\n",
        "  [0,0,0,0,0.01,0,0.33,0.47,0.33,0.05,0,0,0,0,0,0,0.35,0,0,0,0,0],\n",
        "  [0,0,0,0,0,0.26,0.32,0.13,0,0,0,0,0,0,0,0.34,0,0,0,0,0,0],\n",
        "  [0,0,0,0,0,0.22,0.25,0.03,0,0,0,0,0,0,0.46,0,0,0,0,0,0,0],\n",
        "  [0,0,0,0,0,0,0.09,0.2,0.22,0.23,0.23,0.22,0.3,0.3,0,0,0,0,0,0,0,0]]}\n",
        "\n",
        "pattern[\"aquarium\"] = {\"name\":\"Tessellatium gyrans\",\"R\":12,\"T\":1,\"kernels\":[\n",
        "  {\"b\":[1],\"m\":0.272,\"s\":0.0595,\"h\":0.19,\"r\":0.91,\"c0\":0,\"c1\":0},\n",
        "  {\"b\":[1],\"m\":0.349,\"s\":0.1585,\"h\":0.66,\"r\":0.62,\"c0\":0,\"c1\":0},\n",
        "  {\"b\":[1,0.25],\"m\":0.2,\"s\":0.0332,\"h\":0.39,\"r\":0.5,\"c0\":0,\"c1\":0},\n",
        "  {\"b\":[0,1],\"m\":0.114,\"s\":0.0528,\"h\":0.38,\"r\":0.97,\"c0\":1,\"c1\":1},\n",
        "  {\"b\":[1],\"m\":0.447,\"s\":0.0777,\"h\":0.74,\"r\":0.72,\"c0\":1,\"c1\":1},\n",
        "  {\"b\":[0.833,1],\"m\":0.247,\"s\":0.0342,\"h\":0.92,\"r\":0.8,\"c0\":1,\"c1\":1},\n",
        "  {\"b\":[1],\"m\":0.21,\"s\":0.0617,\"h\":0.59,\"r\":0.96,\"c0\":2,\"c1\":2},\n",
        "  {\"b\":[1],\"m\":0.462,\"s\":0.1192,\"h\":0.37,\"r\":0.56,\"c0\":2,\"c1\":2},\n",
        "  {\"b\":[1],\"m\":0.446,\"s\":0.1793,\"h\":0.94,\"r\":0.78,\"c0\":2,\"c1\":2},\n",
        "  {\"b\":[0.917,1],\"m\":0.327,\"s\":0.1408,\"h\":0.51,\"r\":0.79,\"c0\":0,\"c1\":1},\n",
        "  {\"b\":[0.75,1],\"m\":0.476,\"s\":0.0995,\"h\":0.77,\"r\":0.5,\"c0\":0,\"c1\":2},\n",
        "  {\"b\":[0.917,1],\"m\":0.379,\"s\":0.0697,\"h\":0.92,\"r\":0.72,\"c0\":1,\"c1\":0},\n",
        "  {\"b\":[1],\"m\":0.262,\"s\":0.0877,\"h\":0.71,\"r\":0.68,\"c0\":1,\"c1\":2},\n",
        "  {\"b\":[0.167,1,0],\"m\":0.412,\"s\":0.1101,\"h\":0.59,\"r\":0.82,\"c0\":2,\"c1\":0},\n",
        "  {\"b\":[1],\"m\":0.201,\"s\":0.0786,\"h\":0.41,\"r\":0.82,\"c0\":2,\"c1\":1}],\n",
        "  \"cells\":[[[0,0,0,0,0,0,0,0,0,0,0,0,0,0,0.04,0,0,0,0,0,0,0,0,0],\n",
        "  [0,0,0,0,0,0,0,0,0,0.49,1.0,0,0.03,0.49,0.49,0.28,0.16,0.03,0,0,0,0,0,0],\n",
        "  [0,0,0,0,0,0,0,0,0,0,0,0.6,0.47,0.31,0.58,0.51,0.35,0.28,0.22,0,0,0,0,0],\n",
        "  [0,0,0,0,0,0,0.15,0.32,0.17,0.61,0.97,0.29,0.67,0.59,0.88,1.0,0.92,0.8,0.61,0.42,0.19,0,0,0],\n",
        "  [0,0,0,0,0,0,0,0.25,0.64,0.26,0.92,0.04,0.24,0.97,1.0,1.0,1.0,1.0,0.97,0.71,0.33,0.12,0,0],\n",
        "  [0,0,0,0,0,0,0,0.38,0.84,0.99,0.78,0.67,1.0,1.0,1.0,1.0,1.0,1.0,1.0,0.95,0.62,0.37,0,0],\n",
        "  [0,0,0,0,0.04,0.11,0,0.69,0.75,0.75,0.91,1.0,1.0,0.89,1.0,1.0,1.0,1.0,1.0,1.0,0.81,0.42,0.07,0],\n",
        "  [0,0,0,0,0.44,0.63,0.04,0,0,0,0.11,0.14,0,0.05,0.64,1.0,1.0,1.0,1.0,1.0,0.92,0.56,0.23,0],\n",
        "  [0,0,0,0,0.11,0.36,0.35,0.2,0,0,0,0,0,0,0.63,1.0,1.0,1.0,1.0,1.0,0.96,0.49,0.26,0],\n",
        "  [0,0,0,0,0,0.4,0.37,0.18,0,0,0,0,0,0.04,0.41,0.52,0.67,0.82,1.0,1.0,0.91,0.4,0.23,0],\n",
        "  [0,0,0,0,0,0,0,0,0,0,0,0,0,0,0.04,0,0.05,0.45,0.89,1.0,0.66,0.35,0.09,0],\n",
        "  [0,0,0.22,0,0,0,0.05,0.36,0.6,0.13,0.02,0.04,0.24,0.34,0.1,0,0.04,0.62,1.0,1.0,0.44,0.25,0,0],\n",
        "  [0,0,0,0.43,0.53,0.58,0.78,0.9,0.96,1.0,1.0,1.0,1.0,0.71,0.46,0.51,0.81,1.0,1.0,0.93,0.19,0.06,0,0],\n",
        "  [0,0,0,0,0.23,0.26,0.37,0.51,0.71,0.89,1.0,1.0,1.0,1.0,1.0,1.0,1.0,1.0,1.0,0.42,0.06,0,0,0],\n",
        "  [0,0,0,0,0.03,0,0,0.11,0.35,0.62,0.81,0.93,1.0,1.0,1.0,1.0,1.0,0.64,0.15,0,0,0,0,0],\n",
        "  [0,0,0,0,0,0,0.06,0.1,0,0,0,0,0,0,0,0,0,0,0,0,0,0,0,0],\n",
        "  [0,0,0,0,0,0,0,0.05,0.09,0.05,0,0,0,0,0,0,0,0,0,0,0,0,0,0],\n",
        "  [0,0,0,0,0,0,0,0,0,0,0,0,0,0,0,0,0,0,0,0,0,0,0,0]],\n",
        "  [[0,0,0,0,0,0,0,0,0,0,0,0,0,0,0,0,0,0,0,0,0,0,0,0],\n",
        "  [0,0,0,0,0,0,0,0,0,0,0,0,0,0,0,0,0,0,0,0,0,0,0,0],\n",
        "  [0,0,0,0,0,0,0,0,0,0,0,0,0,0,0,0.02,0.28,0.42,0.44,0.34,0.18,0,0,0],\n",
        "  [0,0,0,0,0,0,0,0,0,0,0,0,0,0,0.34,1.0,1.0,1.0,1.0,1.0,0.91,0.52,0.14,0],\n",
        "  [0,0,0,0,0,0,0,0,0,0,0,0,0.01,0.17,0.75,1.0,1.0,1.0,1.0,1.0,1.0,0.93,0.35,0],\n",
        "  [0,0,0,0,0,0,0,0,0,0,0,0,0,0,0.22,0.92,1.0,1.0,1.0,1.0,1.0,1.0,0.59,0.09],\n",
        "  [0,0,0,0,0,0,0,0,0,0,0,0,0,0,0.75,1.0,1.0,1.0,1.0,1.0,1.0,1.0,0.71,0.16],\n",
        "  [0,0,0,0,0,0,0,0,0,0,0,0,0.01,0.67,0.83,0.85,1.0,1.0,1.0,1.0,1.0,1.0,0.68,0.17],\n",
        "  [0,0,0,0,0,0,0,0,0,0,0,0,0.21,0.04,0.12,0.58,0.95,1.0,1.0,1.0,1.0,1.0,0.57,0.13],\n",
        "  [0,0,0,0,0,0,0,0,0,0,0,0.07,0,0,0,0.2,0.64,0.96,1.0,1.0,1.0,0.9,0.24,0.01],\n",
        "  [0,0,0,0,0,0,0,0,0,0,0.13,0.29,0,0,0,0.25,0.9,1.0,1.0,1.0,1.0,0.45,0.05,0],\n",
        "  [0,0,0,0,0,0,0,0,0,0,0.13,0.31,0.07,0,0.46,0.96,1.0,1.0,1.0,1.0,0.51,0.12,0,0],\n",
        "  [0,0,0,0,0,0,0,0,0.26,0.82,1.0,0.95,1.0,1.0,1.0,1.0,1.0,1.0,1.0,0.3,0.05,0,0,0],\n",
        "  [0,0,0,0,0,0,0,0,0.28,0.74,1.0,0.95,0.87,1.0,1.0,1.0,1.0,1.0,0,0,0,0,0,0],\n",
        "  [0,0,0,0,0,0,0,0,0.07,0.69,1.0,1.0,1.0,1.0,1.0,0.96,0.25,0,0,0,0,0,0,0],\n",
        "  [0,0,0,0,0,0,0,0,0,0,0.4,0.72,0.9,0.83,0.7,0.56,0.43,0.14,0,0,0,0,0,0],\n",
        "  [0,0,0,0,0,0,0,0,0,0,0,0,0,0,0,0,0,0,0,0,0,0,0,0],\n",
        "  [0,0,0,0,0,0,0,0,0,0,0,0,0,0,0,0,0,0,0,0,0,0,0,0]],\n",
        "  [[0,0,0,0,0,0,0,0,0,0,0,0,0,0,0,0,0,0,0,0,0,0,0,0],\n",
        "  [0,0,0,0,0,0,0,0,0,0,0,0,0.04,0.25,0.37,0.44,0.37,0.24,0.11,0.04,0,0,0,0],\n",
        "  [0,0,0,0,0,0,0,0,0,0.19,1.0,1.0,1.0,1.0,1.0,1.0,1.0,0.75,0.4,0.15,0,0,0,0],\n",
        "  [0,0,0,0,0,0,0,0,0.14,0.48,0.83,1.0,1.0,1.0,1.0,1.0,1.0,1.0,1.0,0.4,0,0,0,0],\n",
        "  [0,0,0,0,0,0,0,0,0.62,0.78,0.94,1.0,1.0,1.0,1.0,1.0,1.0,1.0,1.0,0.64,0,0,0,0],\n",
        "  [0,0,0,0,0,0,0,0.02,0.65,0.98,1.0,1.0,1.0,1.0,1.0,1.0,1.0,1.0,1.0,0.78,0,0,0,0],\n",
        "  [0,0,0,0,0,0,0,0.15,0.48,0.93,1.0,1.0,1.0,1.0,1.0,1.0,1.0,1.0,1.0,0.79,0.05,0,0,0],\n",
        "  [0,0,0,0,0,0,0.33,0.56,0.8,1.0,1.0,1.0,0.37,0.6,0.94,1.0,1.0,1.0,1.0,0.68,0.05,0,0,0],\n",
        "  [0,0,0,0,0.35,0.51,0.76,0.89,1.0,1.0,0.72,0.15,0,0.29,0.57,0.69,0.86,1.0,0.92,0.49,0,0,0,0],\n",
        "  [0,0,0,0,0,0.38,0.86,1.0,1.0,0.96,0.31,0,0,0,0,0.02,0.2,0.52,0.37,0.11,0,0,0,0],\n",
        "  [0,0,0.01,0,0,0.07,0.75,1.0,1.0,1.0,0.48,0.03,0,0,0,0,0,0.18,0.07,0,0,0,0,0],\n",
        "  [0,0.11,0.09,0.22,0.15,0.32,0.71,0.94,1.0,1.0,0.97,0.54,0.12,0.02,0,0,0,0,0,0,0,0,0,0],\n",
        "  [0.06,0.33,0.47,0.51,0.58,0.77,0.95,1.0,1.0,1.0,1.0,0.62,0.12,0,0,0,0,0,0,0,0,0,0,0],\n",
        "  [0.04,0.4,0.69,0.88,0.95,1.0,1.0,1.0,1.0,1.0,0.93,0.68,0.22,0.02,0,0,0.01,0,0,0,0,0,0,0],\n",
        "  [0,0.39,0.69,0.91,1.0,1.0,1.0,1.0,1.0,0.85,0.52,0.35,0.24,0.17,0.07,0,0,0,0,0,0,0,0,0],\n",
        "  [0,0,0.29,0.82,1.0,1.0,1.0,1.0,1.0,1.0,0.67,0.29,0.02,0,0,0,0,0,0,0,0,0,0,0],\n",
        "  [0,0,0,0,0.2,0.51,0.77,0.96,0.93,0.71,0.4,0.16,0,0,0,0,0,0,0,0,0,0,0,0],\n",
        "  [0,0,0,0,0,0,0,0,0.08,0.07,0.03,0,0,0,0,0,0,0,0,0,0,0,0,0]]]}"
      ],
      "execution_count": null,
      "outputs": []
    },
    {
      "cell_type": "markdown",
      "metadata": {
        "id": "AtrfcCbt-t9A"
      },
      "source": [
        "# Welcome to Conway's Game of Life"
      ]
    },
    {
      "cell_type": "markdown",
      "metadata": {
        "id": "21nh7RTSGVcW"
      },
      "source": [
        "## Original Game of Life\n",
        "\n",
        "The original 2D cellular automata created by John Conway. Array A is the world, array U is the neighbor sums.\n",
        "\n",
        "You can change the world size, the number of frames, and the animation time interval.\n",
        "\n",
        "Modified from the fantastic minimal code by Jake VanderPlas\n",
        "http://jakevdp.github.io/blog/2013/08/07/conways-game-of-life/"
      ]
    },
    {
      "cell_type": "code",
      "metadata": {
        "id": "mbSw3-6lac1s"
      },
      "source": [
        "size = 64\n",
        "np.random.seed(0)\n",
        "A = np.random.randint(2, size=(size, size))\n",
        "def update(i):\n",
        "  global A\n",
        "  ''' neighbor sum '''\n",
        "  U = sum(np.roll(A, (i,j), axis=(0,1)) for i in (-1,0,+1) for j in (-1,0,+1) if (i!=0 or j!=0))\n",
        "  ''' conditional update '''\n",
        "  A = (A & (U==2)) | (U==3)\n",
        "  img.set_array(A)\n",
        "  return img,\n",
        "fig = figure_world(A, cmap='binary')\n",
        "IPython.display.HTML(matplotlib.animation.FuncAnimation(fig, update, frames=50, interval=50).to_jshtml())"
      ],
      "execution_count": null,
      "outputs": []
    },
    {
      "cell_type": "markdown",
      "metadata": {
        "id": "VAt144SoGZZr"
      },
      "source": [
        "## Convolution with kernel\n",
        "\n",
        "It's all good with the simple implementation, but to further extend the *Game of Life*, we need to generalize the system, e.g. by using convolution and growth function.\n",
        "\n",
        "Use convolution with a kernel instead of counting the neighbors. The resulting patterns are not affected."
      ]
    },
    {
      "cell_type": "code",
      "metadata": {
        "id": "MGFoKboAj56C"
      },
      "source": [
        "size = 64\n",
        "np.random.seed(0)\n",
        "A = np.random.randint(2, size=(size, size))\n",
        "''' define convolution kernel '''\n",
        "K = np.asarray([[1,1,1], [1,0,1], [1,1,1]])\n",
        "K_sum = np.sum(K)\n",
        "def update(i):\n",
        "  global A\n",
        "  ''' use convolution '''\n",
        "  #U = sum(np.roll(A, (i,j), axis=(0,1)) for i in (-1,0,+1) for j in (-1,0,+1) if (i!=0 or j!=0))\n",
        "  U = scipy.signal.convolve2d(A, K, mode='same', boundary='wrap')\n",
        "  A = (A & (U==2)) | (U==3)\n",
        "  img.set_array(A)\n",
        "  return img,\n",
        "fig = figure_world(A, cmap='binary')\n",
        "IPython.display.HTML(matplotlib.animation.FuncAnimation(fig, update, frames=50, interval=50).to_jshtml())"
      ],
      "execution_count": null,
      "outputs": []
    },
    {
      "cell_type": "markdown",
      "metadata": {
        "id": "z46XUEeTGfgY"
      },
      "source": [
        "## Incremental update with growth\n",
        "\n",
        "Use incremental update by growth function (and then clipping) instead of conditional update. The resulting patterns are not affected.\n",
        "\n",
        "The growth function consists of a growth part and a shrink part, controlled by growth ranges and shrink ranges of the neighbor sum, respectively."
      ]
    },
    {
      "cell_type": "code",
      "metadata": {
        "id": "ycvjBlAOt6tK"
      },
      "source": [
        "size = 64\n",
        "np.random.seed(0)\n",
        "A = np.random.randint(2, size=(size, size))\n",
        "K = np.asarray([[1,1,1], [1,0,1], [1,1,1]])\n",
        "K_sum = np.sum(K)\n",
        "''' define growth function with growth/shrink ranges '''\n",
        "def growth(U):\n",
        "  return 0 + (U==3) - ((U<2)|(U>3))\n",
        "def update(i):\n",
        "  global A\n",
        "  U = scipy.signal.convolve2d(A, K, mode='same', boundary='wrap')\n",
        "  ''' use incremental update and clipping '''\n",
        "  #A = (A & (U==2)) | (U==3)\n",
        "  A = np.clip(A + growth(U), 0, 1)\n",
        "  img.set_array(A)\n",
        "  return img,\n",
        "figure_asset(K, growth, K_sum=K_sum, bar_K=True)\n",
        "fig = figure_world(A, cmap='binary')\n",
        "IPython.display.HTML(matplotlib.animation.FuncAnimation(fig, update, frames=50, interval=50).to_jshtml())"
      ],
      "execution_count": null,
      "outputs": []
    },
    {
      "cell_type": "markdown",
      "metadata": {
        "id": "yHZ-g49G_Gjz"
      },
      "source": [
        "# Branching\n",
        "\n",
        "After generalizing the *Game of Life*, we are now ready to extend it to continuous cases.\n",
        "\n",
        "There are many possibile routes, here are two of them:\n",
        "\n",
        "1. *Game of Life* &rarr; *Larger-than-Life* (continuous space)\n",
        "2. *Game of Life* &rarr; *Primordia* (continuous states)\n",
        "\n",
        "  2.1. *Primordia* &rarr; *Lenia* (continuous states-space-time)"
      ]
    },
    {
      "cell_type": "markdown",
      "metadata": {
        "id": "62O2SC3s9DyB"
      },
      "source": [
        "# Side quest: Larger-than-Life"
      ]
    },
    {
      "cell_type": "markdown",
      "metadata": {
        "id": "6SP9KLqC9IJT"
      },
      "source": [
        "## Extended kernel\n",
        "\n",
        "As a side quest, let's briefly visit the cellular automata [Larger-than-Life](https://www.conwaylife.com/wiki/Larger_than_Life).\n",
        "\n",
        "The convolution kernel is enlarged to radius R (i.e. extended Moore neighborhood), including self. The periodic pattern *Bosco* is loaded."
      ]
    },
    {
      "cell_type": "code",
      "metadata": {
        "id": "ckGp-uTc98hh"
      },
      "source": [
        "size = 64;  cx, cy = 10, 10\n",
        "#A = np.random.randint(2, size=(size, size))\n",
        "''' load Bosco pattern '''\n",
        "A = np.zeros([size, size])\n",
        "C = np.asarray(pattern[\"bosco\"][\"cells\"])\n",
        "A[cx:cx+C.shape[0], cy:cy+C.shape[1]] = C\n",
        "''' extended neighborhood (includes self) '''\n",
        "#K = np.asarray([[1,1,1], [1,0,1], [1,1,1]])\n",
        "R = 5\n",
        "K = np.ones((2*R+1, 2*R+1))\n",
        "K_sum = np.sum(K)\n",
        "def growth(U):\n",
        "  ''' Bosco's rule '''\n",
        "  #return 0 + (U==3) - ((U<2)|(U>3))\n",
        "  return 0 + ((U>=34)&(U<=45)) - ((U<34)|(U>58))\n",
        "def update(i):\n",
        "  global A\n",
        "  U = scipy.signal.convolve2d(A, K, mode='same', boundary='wrap')\n",
        "  A = np.clip(A + growth(U), 0, 1)\n",
        "  img.set_array(A)\n",
        "  return img,\n",
        "figure_asset(K, growth, K_sum=K_sum, bar_K=True)\n",
        "fig = figure_world(A, cmap='binary')\n",
        "IPython.display.HTML(matplotlib.animation.FuncAnimation(fig, update, frames=200, interval=50).to_jshtml())"
      ],
      "execution_count": null,
      "outputs": []
    },
    {
      "cell_type": "markdown",
      "metadata": {
        "id": "0MA9ywdB-kfs"
      },
      "source": [
        "# Welcome to Primordia"
      ]
    },
    {
      "cell_type": "markdown",
      "metadata": {
        "id": "ADwGux1WGmy1"
      },
      "source": [
        "## Multiple states\n",
        "\n",
        "From now on, we will start from the *Game of Life*, and try to achieve continuous states, continuous time, and continuous space, one by one.\n",
        "\n",
        "First, we allow multiple states instead of only 0 or 1. Everything (including the growth/shrink ranges) are scaled up by the number of states. The resulting patterns become more complex.\n",
        "\n",
        "You can change the number of states."
      ]
    },
    {
      "cell_type": "code",
      "metadata": {
        "id": "SSjGDX6drFcD"
      },
      "source": [
        "size = 64\n",
        "''' multiple states '''\n",
        "states = 12\n",
        "np.random.seed(0)\n",
        "A = np.random.randint(states+1, size=(size, size))\n",
        "K = np.asarray([[1,1,1], [1,0,1], [1,1,1]])\n",
        "K_sum = states * np.sum(K)\n",
        "def growth(U):\n",
        "  ''' everything scaled up by the number of states '''\n",
        "  #return 0 + (U==3) - ((U<2)|(U>3))\n",
        "  return 0 + ((U>=20)&(U<=24)) - ((U<=18)|(U>=32))\n",
        "def update(i):\n",
        "  global A\n",
        "  U = scipy.signal.convolve2d(A, K, mode='same', boundary='wrap')\n",
        "  A = np.clip(A + growth(U), 0, states)\n",
        "  ''' normalize pixels for image '''\n",
        "  #img.set_array(A)\n",
        "  img.set_array(A / states)\n",
        "  return img,\n",
        "figure_asset(K, growth, K_sum=K_sum, bar_K=True)\n",
        "fig = figure_world(A / states)\n",
        "IPython.display.HTML(matplotlib.animation.FuncAnimation(fig, update, frames=200, interval=20).to_jshtml())"
      ],
      "execution_count": null,
      "outputs": []
    },
    {
      "cell_type": "markdown",
      "metadata": {
        "id": "STpwyDNdGp-X"
      },
      "source": [
        "## Normalized kernel\n",
        "Using integers as states causes a problem, if we change the number of states, other properties (e.g. the growth/shrink ranges, the range of neighbor sums) will change as well.\n",
        "\n",
        "Instead, we can *normalize* the various properties (e.g. states, the kernel, the growth/shrink ranges), i.e. to restrict their values to the unit range [0.0, 1.0]. This will make further generalizations much easier.\n",
        "\n",
        "Now we normalize the kernel and the growth/shrink ranges. As a consequence, the neighbor sums are normalized. The resulting patterns don't change qualitatively."
      ]
    },
    {
      "cell_type": "code",
      "metadata": {
        "id": "lGEmZlUxDF1-"
      },
      "source": [
        "size = 64\n",
        "states = 12\n",
        "np.random.seed(0)\n",
        "A = np.random.randint(states+1, size=(size, size))\n",
        "K = np.asarray([[1,1,1], [1,0,1], [1,1,1]])\n",
        "K_sum = states * np.sum(K)\n",
        "''' normalize kernel '''\n",
        "K = K / K_sum\n",
        "def growth(U):\n",
        "  ''' normalize growth/shrink ranges, divide each number by K_sum '''\n",
        "  #return 0 + ((U>=20)&(U<=24)) - ((U<=18)|(U>=32))\n",
        "  return 0 + ((U>=0.20)&(U<=0.25)) - ((U<=0.18)|(U>=0.33))\n",
        "def update(i):\n",
        "  global A\n",
        "  U = scipy.signal.convolve2d(A, K, mode='same', boundary='wrap')\n",
        "  A = np.clip(A + growth(U), 0, states)\n",
        "  img.set_array(A / states)\n",
        "  return img,\n",
        "figure_asset(K, growth, bar_K=True)\n",
        "fig = figure_world(A / states)\n",
        "IPython.display.HTML(matplotlib.animation.FuncAnimation(fig, update, frames=200, interval=20).to_jshtml())"
      ],
      "execution_count": null,
      "outputs": []
    },
    {
      "cell_type": "markdown",
      "metadata": {
        "id": "g6zbLY-4Gt7F"
      },
      "source": [
        "## Continuous states and time\n",
        "Next, we normalize the states from discrete numbers to the range [0.0, 1.0].\n",
        "\n",
        "By doing so, the states become continuous (effectively infinite number of states, but technically it's subject to the precision of floating point numbers). The number of states is no longer useful.\n",
        "\n",
        "We also define the update frequency (T), and scale down the incremental updates by a factor of dt = 1/T. By taking T to infinity, i.e. very small timesteps, time will become continuous. The resulting patterns don't change qualitatively.\n",
        "\n",
        "You can change T."
      ]
    },
    {
      "cell_type": "code",
      "metadata": {
        "id": "sADtqbYq_NtD"
      },
      "source": [
        "size = 64\n",
        "''' define update frequency '''\n",
        "T = 10\n",
        "#states = 12\n",
        "np.random.seed(0)\n",
        "''' normalize states '''\n",
        "#A = np.random.randint(states+1, size=(size, size))\n",
        "A = np.random.rand(size, size)\n",
        "K = np.asarray([[1,1,1], [1,0,1], [1,1,1]])\n",
        "K = K / np.sum(K)\n",
        "def growth(U):\n",
        "  return 0 + ((U>=0.20)&(U<=0.25)) - ((U<=0.19)|(U>=0.33))\n",
        "def update(i):\n",
        "  global A\n",
        "  U = scipy.signal.convolve2d(A, K, mode='same', boundary='wrap')\n",
        "  ''' fractional increment by factor dt = 1/T '''\n",
        "  #A = np.clip(A + growth(U), 0, states)\n",
        "  A = np.clip(A + 1/T * growth(U), 0, 1)\n",
        "  img.set_array(A)\n",
        "  return img,\n",
        "figure_asset(K, growth, bar_K=True)\n",
        "fig = figure_world(A)\n",
        "IPython.display.HTML(matplotlib.animation.FuncAnimation(fig, update, frames=200, interval=20).to_jshtml())"
      ],
      "execution_count": null,
      "outputs": []
    },
    {
      "cell_type": "markdown",
      "metadata": {
        "id": "Q8EcjYfhRxsG"
      },
      "source": [
        "# Welcome to Lenia"
      ]
    },
    {
      "cell_type": "markdown",
      "metadata": {
        "id": "gwA1viqZGxHC"
      },
      "source": [
        "## Continuous space\n",
        "After states and time become continuous in *Primordia*, space could be made continuous as well.\n",
        "\n",
        "We define the kernel radius (R). The convolution kernel is enlarged to radius R (i.e. extended Moore neighborhood, like in *Larger-than-Life*), but is still rectangular in shape. As R approaches infinity, the space become continuous. The resulting patterns acquired a sort of fluid like quality.\n",
        "\n",
        "You can change R."
      ]
    },
    {
      "cell_type": "code",
      "metadata": {
        "id": "aH2z9QVPIhnM"
      },
      "source": [
        "size = 64\n",
        "T = 10\n",
        "''' define kernel radius '''\n",
        "R = 5\n",
        "np.random.seed(0)\n",
        "A = np.random.rand(size, size)\n",
        "''' larger rectangular kernel '''\n",
        "#K = np.asarray([[1,1,1], [1,0,1], [1,1,1]])\n",
        "K = np.ones((2*R+1, 2*R+1));  K[R, R] = 0\n",
        "K = K / np.sum(K)\n",
        "def growth(U):\n",
        "  return 0 + ((U>=0.12)&(U<=0.15)) - ((U<0.12)|(U>0.15))\n",
        "def update(i):\n",
        "  global A\n",
        "  U = scipy.signal.convolve2d(A, K, mode='same', boundary='wrap')\n",
        "  A = np.clip(A + 1/T * growth(U), 0, 1)\n",
        "  img.set_array(A)\n",
        "  return img,\n",
        "figure_asset(K, growth, bar_K=True)\n",
        "fig = figure_world(A)\n",
        "IPython.display.HTML(matplotlib.animation.FuncAnimation(fig, update, frames=200, interval=20).to_jshtml())"
      ],
      "execution_count": null,
      "outputs": []
    },
    {
      "cell_type": "markdown",
      "metadata": {
        "id": "lBqLuL4jG3SZ"
      },
      "source": [
        "## Ring kernel\n",
        "Hand draw a ring-like kernel with the same radius. The circular shape of the kernel removes the orthogonal bias (i.e. the horizontal and vertical strips) in the patterns, changing them from anisotropic (dependent on direction) to *isotropic* (equal in all directions). The ring-like structure also resembles that in *SmoothLife*.\n",
        "\n",
        "You can modify the kernel."
      ]
    },
    {
      "cell_type": "code",
      "metadata": {
        "id": "F1NF30u4JTG4"
      },
      "source": [
        "size = 64\n",
        "T = 10\n",
        "R = 5\n",
        "np.random.seed(0)\n",
        "A = np.random.rand(size, size)\n",
        "''' ring-like kernel '''\n",
        "#K = np.ones((2*R+1, 2*R+1));  K[R, R] = 0\n",
        "K = np.asarray([\n",
        "[0, 0, 0, 0, 1, 1, 1, 0, 0, 0, 0],\n",
        "[0, 0, 1, 1, 1, 1, 1, 1, 1, 0, 0],\n",
        "[0, 1, 1, 1, 1, 1, 1, 1, 1, 1, 0],\n",
        "[0, 1, 1, 1, 1, 1, 1, 1, 1, 1, 0],\n",
        "[1, 1, 1, 1, 0, 0, 0, 1, 1, 1, 1],\n",
        "[1, 1, 1, 1, 0, 0, 0, 1, 1, 1, 1],\n",
        "[1, 1, 1, 1, 0, 0, 0, 1, 1, 1, 1],\n",
        "[0, 1, 1, 1, 1, 1, 1, 1, 1, 1, 0],\n",
        "[0, 1, 1, 1, 1, 1, 1, 1, 1, 1, 0],\n",
        "[0, 0, 1, 1, 1, 1, 1, 1, 1, 0, 0],\n",
        "[0, 0, 0, 0, 1, 1, 1, 0, 0, 0, 0]])\n",
        "K = K / np.sum(K)\n",
        "def growth(U):\n",
        "  return 0 + ((U>=0.12)&(U<=0.15)) - ((U<0.12)|(U>0.15))\n",
        "def update(i):\n",
        "  global A, img\n",
        "  U = scipy.signal.convolve2d(A, K, mode='same', boundary='wrap')\n",
        "  A = np.clip(A + 1/T * growth(U), 0, 1)\n",
        "  img.set_array(A)\n",
        "  return img,\n",
        "figure_asset(K, growth, bar_K=True)\n",
        "fig = figure_world(A)\n",
        "IPython.display.HTML(matplotlib.animation.FuncAnimation(fig, update, frames=200, interval=20).to_jshtml())"
      ],
      "execution_count": null,
      "outputs": []
    },
    {
      "cell_type": "markdown",
      "metadata": {
        "id": "94hmMKlqG6Zc"
      },
      "source": [
        "## Smooth kernel\n",
        "\n",
        "Instead of hand drawing the kernel, we can generate it using a smooth bell-shaped function (here Gaussian function). First define a distance array from the center, normalized by factor 1/R, then feed it to the bell-shaped function. The result is a smooth ring-shaped kernel.\n",
        "\n",
        "By convolving with this kernel, array U becomes the weighted neighbor sums, with the kernel being the weights. The patterns became smoother (but barely observable in small world sizes)."
      ]
    },
    {
      "cell_type": "code",
      "metadata": {
        "id": "teAK7yIZPWAn"
      },
      "source": [
        "''' bell-shaped Gaussian function '''\n",
        "bell = lambda x, m, s: np.exp(-((x-m)/s)**2 / 2)\n",
        "size = 64\n",
        "T = 10\n",
        "R = 10\n",
        "np.random.seed(0)\n",
        "A = np.random.rand(size, size)\n",
        "''' smooth ring-like kernel '''\n",
        "#K = np.asarray([...])\n",
        "D = np.linalg.norm(np.asarray(np.ogrid[-R:R, -R:R]) + 1) / R\n",
        "K = (D<1) * bell(D, 0.5, 0.15)\n",
        "K = K / np.sum(K)\n",
        "def growth(U):\n",
        "  return 0 + ((U>=0.12)&(U<=0.15)) - ((U<0.12)|(U>0.15))\n",
        "def update(i):\n",
        "  global A, img\n",
        "  U = scipy.signal.convolve2d(A, K, mode='same', boundary='wrap')\n",
        "  A = np.clip(A + 1/T * growth(U), 0, 1)\n",
        "  img.set_array(A)\n",
        "  return img,\n",
        "figure_asset(K, growth)\n",
        "fig = figure_world(A)\n",
        "IPython.display.HTML(matplotlib.animation.FuncAnimation(fig, update, frames=200, interval=20).to_jshtml())"
      ],
      "execution_count": null,
      "outputs": []
    },
    {
      "cell_type": "markdown",
      "metadata": {
        "id": "1NNt24fWG86h"
      },
      "source": [
        "## Smooth growth\n",
        "The growth function can also be replaced by the smooth bell-shaped function, with parameters growth center (m or &mu;) and growth width (s or &sigma;). The patterns became even smoother.\n",
        "\n",
        "With everything smoothed, we finally arrived at the system called *Lenia* (meaning \"smooth\" in Latin).\n",
        "\n",
        "You can change m and s."
      ]
    },
    {
      "cell_type": "code",
      "metadata": {
        "id": "LuARH-miw1s6"
      },
      "source": [
        "bell = lambda x, m, s: np.exp(-((x-m)/s)**2 / 2)\n",
        "size = 64\n",
        "T = 10\n",
        "R = 10\n",
        "np.random.seed(0)\n",
        "A = np.random.rand(size, size)\n",
        "D = np.linalg.norm(np.asarray(np.ogrid[-R:R, -R:R]) + 1) / R\n",
        "K = (D<1) * bell(D, 0.5, 0.15)\n",
        "K = K / np.sum(K)\n",
        "def growth(U):\n",
        "  ''' smooth growth function '''\n",
        "  #return 0 + ((U>=0.12)&(U<=0.15)) - ((U<0.12)|(U>0.15))\n",
        "  m = 0.135\n",
        "  s = 0.015\n",
        "  return bell(U, m, s)*2-1\n",
        "def update(i):\n",
        "  global A, img\n",
        "  U = scipy.signal.convolve2d(A, K, mode='same', boundary='wrap')\n",
        "  A = np.clip(A + 1/T * growth(U), 0, 1)\n",
        "  img.set_array(A)\n",
        "  return img,\n",
        "figure_asset(K, growth)\n",
        "fig = figure_world(A)\n",
        "IPython.display.HTML(matplotlib.animation.FuncAnimation(fig, update, frames=200, interval=20).to_jshtml())"
      ],
      "execution_count": null,
      "outputs": []
    },
    {
      "cell_type": "markdown",
      "metadata": {
        "id": "4QV4gcj_RPc9"
      },
      "source": [
        "## The *Orbium*\n",
        "Instead of random world, load the iconic creature *Orbium* (defined in the \"Preparations\" section).\n",
        "\n",
        "You can change its scaling factor and its initial position (cx, cy)."
      ]
    },
    {
      "cell_type": "code",
      "metadata": {
        "id": "JqGs2V3_JJPi"
      },
      "source": [
        "bell = lambda x, m, s: np.exp(-((x-m)/s)**2 / 2)\n",
        "size = 64\n",
        "''' scaling factor and initial position '''\n",
        "scale = 1;  cx, cy = 20, 20\n",
        "''' load pattern, including parameters R, T, m, s, and cells '''\n",
        "#T = 10\n",
        "#R = 13\n",
        "globals().update(pattern[\"orbium\"]);  C = np.array(cells)\n",
        "''' create empty world '''\n",
        "#A = np.random.rand(size, size)\n",
        "A = np.zeros([size, size])\n",
        "''' place scaled pattern '''\n",
        "C = scipy.ndimage.zoom(C, scale, order=0);  R *= scale\n",
        "A[cx:cx+C.shape[0], cy:cy+C.shape[1]] = C\n",
        "D = np.linalg.norm(np.asarray(np.ogrid[-R:R, -R:R]) + 1) / R\n",
        "K = (D<1) * bell(D, 0.5, 0.15)\n",
        "K = K / np.sum(K)\n",
        "def growth(U):\n",
        "  #m = 0.15\n",
        "  #s = 0.015\n",
        "  return bell(U, m, s)*2-1\n",
        "def update(i):\n",
        "  global A, img\n",
        "  U = scipy.signal.convolve2d(A, K, mode='same', boundary='wrap')\n",
        "  A = np.clip(A + 1/T * growth(U), 0, 1)\n",
        "  img.set_array(A)\n",
        "  return img,\n",
        "figure_asset(K, growth)\n",
        "fig = figure_world(A)\n",
        "IPython.display.HTML(matplotlib.animation.FuncAnimation(fig, update, frames=200, interval=20).to_jshtml())"
      ],
      "execution_count": null,
      "outputs": []
    },
    {
      "cell_type": "markdown",
      "metadata": {
        "id": "EBSBtfHlPI64"
      },
      "source": [
        "# Welcome to Extended Lenia"
      ]
    },
    {
      "cell_type": "markdown",
      "metadata": {
        "id": "rQr7JXk6G_Q7"
      },
      "source": [
        "## Fast Fourier transform\n",
        "\n",
        "The *Lenia* model can be extended through various enhancements.\n",
        "\n",
        "For more efficient calculations, the naive convolution calculation can be replaced by fast Fourier transform (FFT) according to the [convolution theorem](https://en.wikipedia.org/wiki/Convolution_theorem)."
      ]
    },
    {
      "cell_type": "code",
      "metadata": {
        "id": "sE0l9Xs8Sb8G"
      },
      "source": [
        "bell = lambda x, m, s: np.exp(-((x-m)/s)**2 / 2)\n",
        "size = 64;  mid = size // 2;  scale = 1;  cx, cy = 20, 20\n",
        "globals().update(pattern[\"orbium\"]);  C = np.array(cells)\n",
        "A = np.zeros([size, size])\n",
        "C = scipy.ndimage.zoom(C, scale, order=0);  R *= scale\n",
        "A[cx:cx+C.shape[0], cy:cy+C.shape[1]] = C\n",
        "''' to use FFT, kernel and world must have the same size '''\n",
        "#D = np.linalg.norm(np.asarray(np.ogrid[-R:R, -R:R]) + 1) / R\n",
        "D = np.linalg.norm(np.ogrid[-mid:mid, -mid:mid]) / R\n",
        "K = (D<1) * bell(D, 0.5, 0.15)\n",
        "''' pre-calculate FFT of kernel '''\n",
        "fK = np.fft.fft2(np.fft.fftshift(K / np.sum(K)))\n",
        "def growth(U):\n",
        "  return bell(U, m, s)*2-1\n",
        "def update(i):\n",
        "  global A, img\n",
        "  ''' use FFT to perform convolution '''\n",
        "  #U = scipy.signal.convolve2d(A, K, mode='same', boundary='wrap')\n",
        "  U = np.real(np.fft.ifft2(fK * np.fft.fft2(A)))\n",
        "  A = np.clip(A + 1/T * growth(U), 0, 1)\n",
        "  img.set_array(A)\n",
        "  return img,\n",
        "figure_asset(K, growth)\n",
        "fig = figure_world(A)\n",
        "IPython.display.HTML(matplotlib.animation.FuncAnimation(fig, update, frames=200, interval=20).to_jshtml())"
      ],
      "execution_count": null,
      "outputs": []
    },
    {
      "cell_type": "markdown",
      "metadata": {
        "id": "CIVO47a0HHBi"
      },
      "source": [
        "## Multiple ring kernel\n",
        "Extend the kernel into multiple rings, with new parameter kernel peaks (b or &beta;).\n",
        "\n",
        "Load the sample creature *Hydrogeminium*.\n"
      ]
    },
    {
      "cell_type": "code",
      "metadata": {
        "id": "KIrtcCtcNDMK"
      },
      "source": [
        "bell = lambda x, m, s: np.exp(-((x-m)/s)**2 / 2)\n",
        "size = 64;  mid = size // 2;  scale = 0.75;  cx, cy = 10, 10\n",
        "globals().update(pattern[\"geminium\"]);  b = np.array(b);  C = np.array(cells)\n",
        "A = np.zeros([size, size])\n",
        "C = scipy.ndimage.zoom(C, scale, order=0);  R *= scale\n",
        "A[cx:cx+C.shape[0], cy:cy+C.shape[1]] = C\n",
        "''' multi-ring kernel '''\n",
        "D = np.linalg.norm(np.ogrid[-mid:mid, -mid:mid]) / R * len(b)\n",
        "K = (D<len(b)) * b[np.minimum(D.astype(int),len(b)-1)] * bell(D % 1, 0.5, 0.15)\n",
        "fK = np.fft.fft2(np.fft.fftshift(K / np.sum(K)))\n",
        "def growth(U):\n",
        "  return bell(U, m, s)*2-1\n",
        "def update(i):\n",
        "  global A, img\n",
        "  U = np.real(np.fft.ifft2(fK * np.fft.fft2(A)))\n",
        "  A = np.clip(A + 1/T * growth(U), 0, 1)\n",
        "  img.set_array(A)\n",
        "  return img,\n",
        "figure_asset(K, growth)\n",
        "fig = figure_world(A)\n",
        "IPython.display.HTML(matplotlib.animation.FuncAnimation(fig, update, frames=200, interval=20).to_jshtml())"
      ],
      "execution_count": null,
      "outputs": []
    },
    {
      "cell_type": "markdown",
      "metadata": {
        "id": "MfGa07zsHLhU"
      },
      "source": [
        "## Multiple kernels\n",
        "\n",
        "Extend the system into multiple kernels and multiple growth functions. To do so, various properties (kernels K, weighted neighbor sums U, and the resulting growth values G) are multiplied into lists, and the list comprehension syntax of Python (e.g. ```Us = [ ... for K in Ks ]```) makes the code more compact. A fish-like creature is loaded."
      ]
    },
    {
      "cell_type": "code",
      "metadata": {
        "id": "APqoJzYGNTt4"
      },
      "source": [
        "bell = lambda x, m, s: np.exp(-((x-m)/s)**2 / 2)\n",
        "size = 64;  mid = size // 2;  scale = 1;  cx, cy = 20, 20\n",
        "globals().update(pattern[\"fish\"]);  C = np.array(cells)\n",
        "A = np.zeros([size, size])\n",
        "C = scipy.ndimage.zoom(C, scale, order=0);  R *= scale\n",
        "A[cx:cx+C.shape[0], cy:cy+C.shape[1]] = C\n",
        "''' prepare multiple kernels '''\n",
        "#D = ...\n",
        "#K = ...\n",
        "#fK = ...\n",
        "Ds = [ np.linalg.norm(np.ogrid[-mid:mid, -mid:mid]) / R * len(k['b']) for k in kernels ]\n",
        "Ks = [ (D<len(k['b'])) * np.array(k['b'])[np.minimum(D.astype(int),len(k['b'])-1)] * bell(D%1, 0.5, 0.15) for D,k in zip(Ds,kernels) ]\n",
        "nKs = [ K / np.sum(K) for K in Ks ]\n",
        "fKs = [ np.fft.fft2(np.fft.fftshift(K)) for K in nKs ]\n",
        "def growth(U, m, s):\n",
        "  return bell(U, m, s)*2-1\n",
        "def update(i):\n",
        "  global A, img\n",
        "  ''' use multiple kernels, calculate the average growth '''\n",
        "  #U = ...\n",
        "  #A = np.clip(A + 1/T * growth(U), 0, 1)\n",
        "  Us = [ np.real(np.fft.ifft2(fK * np.fft.fft2(A))) for fK in fKs ]\n",
        "  Gs = [ growth(U, k['m'], k['s']) for U,k in zip(Us,kernels) ]\n",
        "  A = np.clip(A + 1/T * np.mean(np.array(Gs),axis=0), 0, 1)\n",
        "  img.set_array(A)\n",
        "  return img,\n",
        "figure_asset_list(Ks, nKs, growth, kernels)\n",
        "fig = figure_world(A)\n",
        "IPython.display.HTML(matplotlib.animation.FuncAnimation(fig, update, frames=200, interval=20).to_jshtml())"
      ],
      "execution_count": null,
      "outputs": []
    },
    {
      "cell_type": "markdown",
      "metadata": {
        "id": "85K1S15uHPUJ"
      },
      "source": [
        "## Multiple channels\n",
        "Extend the world into multiple channels (shown in RGB colors). Introduce two more parameters: relative kernel radius (r or &rho;) and growth height (h or &eta;) for more flexibility. The multi-channel creature *Tessellatium* is loaded."
      ]
    },
    {
      "cell_type": "code",
      "metadata": {
        "id": "Blf4zJOuRjIO"
      },
      "source": [
        "bell = lambda x, m, s: np.exp(-((x-m)/s)**2 / 2)\n",
        "size = 64;  mid = size // 2;  scale = 1;  cx, cy = 20, 20\n",
        "globals().update(pattern[\"aquarium\"])\n",
        "''' place pattern into multiple channels '''\n",
        "#A = ...\n",
        "#C = ...\n",
        "#A[...] = C\n",
        "As = [ np.zeros([size, size]) for i in range(3) ]\n",
        "Cs = [ scipy.ndimage.zoom(np.array(c), scale, order=0) for c in cells ];  R *= scale\n",
        "for A,C in zip(As,Cs):  A[cx:cx+C.shape[0], cy:cy+C.shape[1]] = C\n",
        "Ds = [ np.linalg.norm(np.ogrid[-mid:mid, -mid:mid]) / R * len(k['b']) / k['r'] for k in kernels ]\n",
        "Ks = [ (D<len(k['b'])) * np.array(k['b'])[np.minimum(D.astype(int),len(k['b'])-1)] * bell(D%1, 0.5, 0.15) for D,k in zip(Ds,kernels) ]\n",
        "nKs = [ K / np.sum(K) for K in Ks ]\n",
        "fKs = [ np.fft.fft2(np.fft.fftshift(K)) for K in nKs ]\n",
        "def growth(U, m, s):\n",
        "  return bell(U, m, s)*2-1\n",
        "def update(i):\n",
        "  global As, img\n",
        "  ''' calculate convolution from source channels c0 '''\n",
        "  #Us = [ np.real(np.fft.ifft2(fK * np.fft.fft2(A))) for fK in fKs ]\n",
        "  fAs = [ np.fft.fft2(A) for A in As ]\n",
        "  Us = [ np.real(np.fft.ifft2(fK * fAs[k['c0']])) for fK,k in zip(fKs,kernels) ]\n",
        "  Gs = [ growth(U, k['m'], k['s']) for U,k in zip(Us,kernels) ]\n",
        "  ''' calculate growth values for destination channels c1 '''\n",
        "  Hs = [ sum(k['h']*G for G,k in zip(Gs,kernels) if k['c1']==c1) for c1 in range(3) ]\n",
        "  hs = [ sum(k['h'] for k in kernels if k['c1']==c1) for c1 in range(3) ]\n",
        "  ''' add growth values to channels '''\n",
        "  #A = np.clip(A + 1/T * np.mean(np.array(Gs),axis=0), 0, 1)\n",
        "  As = [ np.clip(A + 1/T * H / h, 0, 1) for A,H,h in zip(As,Hs,hs) ]\n",
        "  ''' show image in RGB '''\n",
        "  img.set_array(np.dstack(As))\n",
        "  return img,\n",
        "figure_asset_list(Ks, nKs, growth, kernels)\n",
        "fig = figure_world(np.dstack(As))\n",
        "IPython.display.HTML(matplotlib.animation.FuncAnimation(fig, update, frames=200, interval=20).to_jshtml())"
      ],
      "execution_count": null,
      "outputs": []
    },
    {
      "cell_type": "markdown",
      "metadata": {
        "id": "c-C-erKPHRyf"
      },
      "source": [
        "## Four-panel display\n",
        "For better visualization, the creature is placed in a larger world, and is displayed in four modes: the world (A), the weighted neighbor sums (U), the resulting growth values (H), and the kernels (K)."
      ]
    },
    {
      "cell_type": "code",
      "metadata": {
        "id": "4JL7OXmuxx2u"
      },
      "source": [
        "bell = lambda x, m, s: np.exp(-((x-m)/s)**2 / 2)\n",
        "size = 256;  mid = size // 2;  scale = 5;  cx, cy = 80, 80\n",
        "globals().update(pattern[\"aquarium\"])\n",
        "As = [ np.zeros([size, size]) for i in range(3) ]\n",
        "Cs = [ scipy.ndimage.zoom(np.array(c), scale, order=0) for c in cells ];  R *= scale\n",
        "for A,C in zip(As,Cs):  A[cx:cx+C.shape[0], cy:cy+C.shape[1]] = C\n",
        "Ds = [ np.linalg.norm(np.ogrid[-mid:mid, -mid:mid]) / R * len(k['b']) / k['r'] for k in kernels ]\n",
        "Ks = [ (D<len(k['b'])) * np.array(k['b'])[np.minimum(D.astype(int),len(k['b'])-1)] * bell(D%1, 0.5, 0.15) for D,k in zip(Ds,kernels) ]\n",
        "nKs = [ K / np.sum(K) for K in Ks ]\n",
        "fKs = [ np.fft.fft2(np.fft.fftshift(K)) for K in nKs ]\n",
        "def growth(U, m, s):\n",
        "  return bell(U, m, s)*2-1\n",
        "def update(i):\n",
        "  global As, img\n",
        "  fAs = [ np.fft.fft2(A) for A in As ]\n",
        "  Us = [ np.real(np.fft.ifft2(fK * fAs[k['c0']])) for fK,k in zip(fKs,kernels) ]\n",
        "  Gs = [ growth(U, k['m'], k['s']) for U,k in zip(Us,kernels) ]\n",
        "  Hs = [ sum(k['h']*G for G,k in zip(Gs,kernels) if k['c1']==c1) for c1 in range(3) ]\n",
        "  hs = [ sum(k['h'] for k in kernels if k['c1']==c1) for c1 in range(3) ]\n",
        "  As = [ np.clip(A + 1/T * H / h, 0, 1) for A,H,h in zip(As,Hs,hs) ]\n",
        "  U_stack = [ np.clip(np.zeros(Us[0].shape) + sum(U/2 for k,U in zip(kernels,Us) if k['c0']==l), 0, 1) for l in range(3) ]\n",
        "  H_stack = [ np.clip(H + 1, 0, 1) for H in Hs ]\n",
        "  ''' update panels '''\n",
        "  img1.set_array(np.dstack(As))\n",
        "  img2.set_array(np.dstack(U_stack))\n",
        "  img3.set_array(np.dstack(H_stack))\n",
        "  return img,\n",
        "fig = figure_panels(As, Ks)\n",
        "IPython.display.HTML(matplotlib.animation.FuncAnimation(fig, update, frames=100, interval=20).to_jshtml())\n"
      ],
      "execution_count": null,
      "outputs": []
    },
    {
      "cell_type": "markdown",
      "metadata": {
        "id": "n7oiYo4z7H3_"
      },
      "source": [
        "# To be continued..."
      ]
    }
  ]
}